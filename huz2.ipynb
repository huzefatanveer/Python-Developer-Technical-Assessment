{
 "cells": [
  {
   "cell_type": "code",
   "execution_count": 1,
   "id": "f4ba7cd2-a82a-4378-9e22-4e82c71713ba",
   "metadata": {},
   "outputs": [],
   "source": [
    "from selenium import webdriver\n",
    "from selenium.webdriver.common.by import By"
   ]
  },
  {
   "cell_type": "code",
   "execution_count": 27,
   "id": "0f581401-bf19-42e1-9075-4dbc87dc3e0c",
   "metadata": {},
   "outputs": [],
   "source": [
    "driver = webdriver.Chrome()\n",
    "driver.get(\"https://bill.pitc.com.pk/fescobill\")"
   ]
  },
  {
   "cell_type": "code",
   "execution_count": 29,
   "id": "fa8c7557-8baf-4266-bfac-ef71784aeb30",
   "metadata": {},
   "outputs": [],
   "source": [
    "import pytesseract\n",
    "from PIL import Image"
   ]
  },
  {
   "cell_type": "code",
   "execution_count": 37,
   "id": "3680ed8d-9e3d-469e-94b8-dd3a9b4cf2e6",
   "metadata": {},
   "outputs": [
    {
     "data": {
      "text/plain": [
       "True"
      ]
     },
     "execution_count": 37,
     "metadata": {},
     "output_type": "execute_result"
    }
   ],
   "source": [
    "screenshot_path = 'imag4.png'\n",
    "driver.save_screenshot(screenshot_path)"
   ]
  },
  {
   "cell_type": "code",
   "execution_count": 32,
   "id": "e67d7c91-da2d-43c0-947e-ad100c87fd75",
   "metadata": {},
   "outputs": [
    {
     "name": "stdout",
     "output_type": "stream",
     "text": [
      "wiww.fesco.com.pk\n",
      "\n",
      "FAISALABAD ELECTRIC SUPPLY COMPANY ELECTRICITY CONSUMER BILL - (MDI)\n",
      "\n",
      "FESCO GST # 24-00-2716-001-19\n",
      "\n",
      "eoYY DATE VNFG. CD NO OF AG ECS BILL Mont REACING DATE ISS.J= JAT= DUE DATE\n",
      "26 OCT OF 4 4.50% AUG 24 31 AUG 24 31 AUG 24 17 SEP 24\n",
      "SOINSL Le 1: ; FEECER NAYE SONDH\n",
      "oSINSLRIER ID TARRIF SAKE. LOAC 3_D AC NUK BER “\n",
      "LNIGUE KEY — _ KA mu\n",
      "lIKTR ho UNITS BIL_ PAY br EMT\n",
      "2130026903 !\n",
      "13011594635 A-2c(06)T 12.3 0413236027 1001 Aug23 7 3603) 210235 210235\n",
      "Sep-23 7 3188] 135128 185128\n",
      "REFSRERSE Nis DIVISHON SAMUNDRI Oct23 7 2765] 171068 171068\n",
      "27 13236 6600117 R SLB CIS OK MURID WALA Noves 6 2981) 154155 184155\n",
      "Dec23 8 2904] 133629 183629\n",
      "Jan24 5 2698] 177698 177698\n",
      "Feb24 7 2600] 176130 176130\n",
      "NAME & ADDRESS Pre sys = Mar24 3 2798] 194668 194668\n",
      "AZIZ ULLAH GOHAR Prog.IT Paid = SAY NO TO Apr24 15 2998 197629 197629\n",
      "M.S TELENOR 12352 WEB GENERATED | ay24 10 2698] 170155 170155\n",
      "2496.B Extra Tax Exempt CORRUPTION BILL\n",
      "MM AWALA Cd=4 Jun24 10 2903] 191691 191691\n",
      "I-TAX paid for 2023-24: 245727 CNCT LOAD = 12 Jul24 7 1662| 119031 419031\n",
      "GST # 701981203246 NTN # 00020460040\n",
      "Mc Date : Fuel Price Adjustment for Jun-24 @ 2.562 7/KWH\n",
      "10-Aug-2022 FT. FPA= OO ET. FPA= 00\n",
      "VAR. FPA = 7439.52 GST FPA = 1359.00\n",
      "ED. FPA = 111.59 IT FPA = 1069.00\n",
      "STAX. FPA = .00\n",
      "PRY CUR td iE PRS.CU YM KCI RESETS KONTHLY ACV.SILL] = ROYER FACT WATTAGE :\n",
      "TotalFPA 9879 LINE LENGTH:\n",
      "159.000 167.000 26 . |\n",
      "\n",
      "\n"
     ]
    }
   ],
   "source": [
    "from PIL import Image, ImageEnhance, ImageFilter\n",
    "import pytesseract\n",
    "\n",
    "# Load the image\n",
    "image = Image.open(screenshot_path)\n",
    "\n",
    "# Preprocess the image\n",
    "# Convert to grayscale\n",
    "image = image.convert('L')\n",
    "\n",
    "# Apply thresholding (binarization)\n",
    "image = image.point(lambda x: 0 if x < 140 else 255, '1')\n",
    "\n",
    "# Resize the image (optional, with the updated attribute)\n",
    "image = image.resize((image.width * 2, image.height * 2), Image.Resampling.LANCZOS)\n",
    "\n",
    "# Save the processed image (optional, for debugging)\n",
    "image.save('processed_image2.png')\n",
    "\n",
    "# Extract text from the processed image\n",
    "extracted_text = pytesseract.image_to_string(image)\n",
    "\n",
    "# Print the extracted text\n",
    "print(extracted_text)\n"
   ]
  },
  {
   "cell_type": "code",
   "execution_count": null,
   "id": "fb87f4f8-07fb-4d0c-8b46-dca1565d7e91",
   "metadata": {},
   "outputs": [],
   "source": [
    "import pandas as pd\n",
    "import re\n",
    "\n",
    "# Your text data\n",
    "text = extracted_text\n",
    "print(extracted_text)\n",
    "\n",
    "# Split the text into rows\n",
    "rows = text.strip().split('\\n')\n",
    "\n",
    "# Regex pattern to extract the data\n",
    "pattern = r'([A-Z]{3}\\d{2}) (\\d+) (\\d+) (\\d+) (\\d+) ([A-Z]{3}\\d{2}) (\\d+) (\\d+) (\\d+) (\\d+)'\n",
    "\n",
    "# Parsed data\n",
    "data = []\n",
    "\n",
    "for row in rows:\n",
    "    match = re.match(pattern, row)\n",
    "    if match:\n",
    "        data.append(match.groups())\n",
    "\n",
    "# Create the DataFrame\n",
    "columns = [\"Month1\", \"MDI1\", \"KWHunits1\", \"Billamount1\", \"Payment1\", \n",
    "           \"Month2\", \"MDI2\", \"KWHunits2\", \"Billamount2\", \"Payment2\"]\n",
    "df = pd.DataFrame(data, columns=columns)\n",
    "\n",
    "print(df)"
   ]
  },
  {
   "cell_type": "code",
   "execution_count": 19,
   "id": "9387055f-c102-4046-acd5-92869c09ae88",
   "metadata": {},
   "outputs": [],
   "source": [
    "driver.quit()\n"
   ]
  },
  {
   "cell_type": "code",
   "execution_count": null,
   "id": "1a302698-0820-4a6e-8422-6ea3a310e7d5",
   "metadata": {},
   "outputs": [],
   "source": []
  }
 ],
 "metadata": {
  "kernelspec": {
   "display_name": "Python 3 (ipykernel)",
   "language": "python",
   "name": "python3"
  },
  "language_info": {
   "codemirror_mode": {
    "name": "ipython",
    "version": 3
   },
   "file_extension": ".py",
   "mimetype": "text/x-python",
   "name": "python",
   "nbconvert_exporter": "python",
   "pygments_lexer": "ipython3",
   "version": "3.12.4"
  }
 },
 "nbformat": 4,
 "nbformat_minor": 5
}
