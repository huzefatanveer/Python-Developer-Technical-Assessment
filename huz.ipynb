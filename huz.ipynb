{
 "cells": [
  {
   "cell_type": "code",
   "execution_count": 13,
   "id": "e8cd1a99-ad98-4f03-837e-b5aa05b12ef1",
   "metadata": {},
   "outputs": [
    {
     "name": "stdout",
     "output_type": "stream",
     "text": [
      "Collecting selenium\n",
      "  Downloading selenium-4.24.0-py3-none-any.whl.metadata (7.1 kB)\n",
      "Requirement already satisfied: urllib3<3,>=1.26 in c:\\users\\huzefa tanveer\\anaconda3\\lib\\site-packages (from urllib3[socks]<3,>=1.26->selenium) (2.2.2)\n",
      "Collecting trio~=0.17 (from selenium)\n",
      "  Downloading trio-0.26.2-py3-none-any.whl.metadata (8.6 kB)\n",
      "Collecting trio-websocket~=0.9 (from selenium)\n",
      "  Downloading trio_websocket-0.11.1-py3-none-any.whl.metadata (4.7 kB)\n",
      "Requirement already satisfied: certifi>=2021.10.8 in c:\\users\\huzefa tanveer\\anaconda3\\lib\\site-packages (from selenium) (2024.8.30)\n",
      "Requirement already satisfied: typing_extensions~=4.9 in c:\\users\\huzefa tanveer\\anaconda3\\lib\\site-packages (from selenium) (4.11.0)\n",
      "Requirement already satisfied: websocket-client~=1.8 in c:\\users\\huzefa tanveer\\anaconda3\\lib\\site-packages (from selenium) (1.8.0)\n",
      "Collecting attrs>=23.2.0 (from trio~=0.17->selenium)\n",
      "  Downloading attrs-24.2.0-py3-none-any.whl.metadata (11 kB)\n",
      "Requirement already satisfied: sortedcontainers in c:\\users\\huzefa tanveer\\anaconda3\\lib\\site-packages (from trio~=0.17->selenium) (2.4.0)\n",
      "Requirement already satisfied: idna in c:\\users\\huzefa tanveer\\anaconda3\\lib\\site-packages (from trio~=0.17->selenium) (3.7)\n",
      "Collecting outcome (from trio~=0.17->selenium)\n",
      "  Downloading outcome-1.3.0.post0-py2.py3-none-any.whl.metadata (2.6 kB)\n",
      "Requirement already satisfied: sniffio>=1.3.0 in c:\\users\\huzefa tanveer\\anaconda3\\lib\\site-packages (from trio~=0.17->selenium) (1.3.0)\n",
      "Requirement already satisfied: cffi>=1.14 in c:\\users\\huzefa tanveer\\anaconda3\\lib\\site-packages (from trio~=0.17->selenium) (1.16.0)\n",
      "Collecting wsproto>=0.14 (from trio-websocket~=0.9->selenium)\n",
      "  Downloading wsproto-1.2.0-py3-none-any.whl.metadata (5.6 kB)\n",
      "Requirement already satisfied: pysocks!=1.5.7,<2.0,>=1.5.6 in c:\\users\\huzefa tanveer\\anaconda3\\lib\\site-packages (from urllib3[socks]<3,>=1.26->selenium) (1.7.1)\n",
      "Requirement already satisfied: pycparser in c:\\users\\huzefa tanveer\\anaconda3\\lib\\site-packages (from cffi>=1.14->trio~=0.17->selenium) (2.21)\n",
      "Requirement already satisfied: h11<1,>=0.9.0 in c:\\users\\huzefa tanveer\\anaconda3\\lib\\site-packages (from wsproto>=0.14->trio-websocket~=0.9->selenium) (0.14.0)\n",
      "Downloading selenium-4.24.0-py3-none-any.whl (9.6 MB)\n",
      "   ---------------------------------------- 0.0/9.6 MB ? eta -:--:--\n",
      "   ---------------------------------------- 0.0/9.6 MB ? eta -:--:--\n",
      "   ---------------------------------------- 0.0/9.6 MB 660.6 kB/s eta 0:00:15\n",
      "   ---------------------------------------- 0.0/9.6 MB 326.8 kB/s eta 0:00:30\n",
      "   ---------------------------------------- 0.1/9.6 MB 525.1 kB/s eta 0:00:19\n",
      "   ---------------------------------------- 0.1/9.6 MB 595.3 kB/s eta 0:00:16\n",
      "    --------------------------------------- 0.2/9.6 MB 655.4 kB/s eta 0:00:15\n",
      "   - -------------------------------------- 0.2/9.6 MB 793.0 kB/s eta 0:00:12\n",
      "   - -------------------------------------- 0.3/9.6 MB 803.7 kB/s eta 0:00:12\n",
      "   - -------------------------------------- 0.5/9.6 MB 1.2 MB/s eta 0:00:08\n",
      "   -- ------------------------------------- 0.5/9.6 MB 1.2 MB/s eta 0:00:08\n",
      "   -- ------------------------------------- 0.7/9.6 MB 1.5 MB/s eta 0:00:07\n",
      "   ---- ----------------------------------- 1.0/9.6 MB 1.9 MB/s eta 0:00:05\n",
      "   ---- ----------------------------------- 1.1/9.6 MB 1.9 MB/s eta 0:00:05\n",
      "   ------ --------------------------------- 1.5/9.6 MB 2.3 MB/s eta 0:00:04\n",
      "   ------- -------------------------------- 1.9/9.6 MB 2.7 MB/s eta 0:00:03\n",
      "   --------- ------------------------------ 2.2/9.6 MB 3.1 MB/s eta 0:00:03\n",
      "   ---------- ----------------------------- 2.6/9.6 MB 3.4 MB/s eta 0:00:03\n",
      "   ------------ --------------------------- 3.0/9.6 MB 3.7 MB/s eta 0:00:02\n",
      "   -------------- ------------------------- 3.5/9.6 MB 4.0 MB/s eta 0:00:02\n",
      "   ---------------- ----------------------- 4.0/9.6 MB 4.3 MB/s eta 0:00:02\n",
      "   ------------------ --------------------- 4.3/9.6 MB 4.5 MB/s eta 0:00:02\n",
      "   ------------------- -------------------- 4.7/9.6 MB 4.7 MB/s eta 0:00:02\n",
      "   --------------------- ------------------ 5.1/9.6 MB 4.8 MB/s eta 0:00:01\n",
      "   ----------------------- ---------------- 5.5/9.6 MB 5.0 MB/s eta 0:00:01\n",
      "   ------------------------- -------------- 6.0/9.6 MB 5.2 MB/s eta 0:00:01\n",
      "   --------------------------- ------------ 6.5/9.6 MB 5.4 MB/s eta 0:00:01\n",
      "   ----------------------------- ---------- 7.0/9.6 MB 5.6 MB/s eta 0:00:01\n",
      "   ------------------------------ --------- 7.3/9.6 MB 5.6 MB/s eta 0:00:01\n",
      "   -------------------------------- ------- 7.7/9.6 MB 5.7 MB/s eta 0:00:01\n",
      "   --------------------------------- ------ 8.0/9.6 MB 5.8 MB/s eta 0:00:01\n",
      "   ----------------------------------- ---- 8.5/9.6 MB 5.9 MB/s eta 0:00:01\n",
      "   ------------------------------------- -- 8.9/9.6 MB 6.0 MB/s eta 0:00:01\n",
      "   ---------------------------------------  9.5/9.6 MB 6.2 MB/s eta 0:00:01\n",
      "   ---------------------------------------- 9.6/9.6 MB 6.1 MB/s eta 0:00:00\n",
      "Downloading trio-0.26.2-py3-none-any.whl (475 kB)\n",
      "   ---------------------------------------- 0.0/476.0 kB ? eta -:--:--\n",
      "   ---------------------------------- ----- 409.6/476.0 kB 8.5 MB/s eta 0:00:01\n",
      "   ---------------------------------------- 476.0/476.0 kB 7.4 MB/s eta 0:00:00\n",
      "Downloading trio_websocket-0.11.1-py3-none-any.whl (17 kB)\n",
      "Downloading attrs-24.2.0-py3-none-any.whl (63 kB)\n",
      "   ---------------------------------------- 0.0/63.0 kB ? eta -:--:--\n",
      "   ---------------------------------------- 63.0/63.0 kB 1.7 MB/s eta 0:00:00\n",
      "Downloading wsproto-1.2.0-py3-none-any.whl (24 kB)\n",
      "Downloading outcome-1.3.0.post0-py2.py3-none-any.whl (10 kB)\n",
      "Installing collected packages: wsproto, attrs, outcome, trio, trio-websocket, selenium\n",
      "  Attempting uninstall: attrs\n",
      "    Found existing installation: attrs 23.1.0\n",
      "    Uninstalling attrs-23.1.0:\n",
      "      Successfully uninstalled attrs-23.1.0\n",
      "Successfully installed attrs-24.2.0 outcome-1.3.0.post0 selenium-4.24.0 trio-0.26.2 trio-websocket-0.11.1 wsproto-1.2.0\n"
     ]
    }
   ],
   "source": [
    "!pip install selenium\n",
    "\n"
   ]
  },
  {
   "cell_type": "code",
   "execution_count": 15,
   "id": "e6e4f16c-55f4-42d5-935d-3a7e2eaef87f",
   "metadata": {},
   "outputs": [
    {
     "name": "stdout",
     "output_type": "stream",
     "text": [
      "Requirement already satisfied: beautifulsoup4 in c:\\users\\huzefa tanveer\\anaconda3\\lib\\site-packages (4.12.3)\n",
      "Requirement already satisfied: soupsieve>1.2 in c:\\users\\huzefa tanveer\\anaconda3\\lib\\site-packages (from beautifulsoup4) (2.5)\n",
      "Requirement already satisfied: pandas in c:\\users\\huzefa tanveer\\anaconda3\\lib\\site-packages (2.2.2)\n",
      "Requirement already satisfied: numpy>=1.26.0 in c:\\users\\huzefa tanveer\\anaconda3\\lib\\site-packages (from pandas) (1.26.4)\n",
      "Requirement already satisfied: python-dateutil>=2.8.2 in c:\\users\\huzefa tanveer\\anaconda3\\lib\\site-packages (from pandas) (2.9.0.post0)\n",
      "Requirement already satisfied: pytz>=2020.1 in c:\\users\\huzefa tanveer\\anaconda3\\lib\\site-packages (from pandas) (2024.1)\n",
      "Requirement already satisfied: tzdata>=2022.7 in c:\\users\\huzefa tanveer\\anaconda3\\lib\\site-packages (from pandas) (2023.3)\n",
      "Requirement already satisfied: six>=1.5 in c:\\users\\huzefa tanveer\\anaconda3\\lib\\site-packages (from python-dateutil>=2.8.2->pandas) (1.16.0)\n"
     ]
    }
   ],
   "source": [
    "!pip install beautifulsoup4\n",
    "!pip install pandas"
   ]
  },
  {
   "cell_type": "code",
   "execution_count": 17,
   "id": "5914059a-d767-48ee-bf1b-c3db4f56f4a9",
   "metadata": {},
   "outputs": [
    {
     "data": {
      "text/plain": [
       "'C:\\\\Users\\\\Huzefa Tanveer\\\\anaconda3'"
      ]
     },
     "execution_count": 17,
     "metadata": {},
     "output_type": "execute_result"
    }
   ],
   "source": [
    "import os\n",
    "import sys\n",
    "os.path.dirname(sys.executable)"
   ]
  },
  {
   "cell_type": "code",
   "execution_count": 3,
   "id": "c33d88bc-730d-42b2-91a7-1e751097a0cc",
   "metadata": {},
   "outputs": [],
   "source": [
    "from selenium import webdriver\n",
    "from selenium.webdriver.common.by import By"
   ]
  },
  {
   "cell_type": "code",
   "execution_count": 5,
   "id": "49d63ddf-f3ea-4bfc-a1a3-2814f79b83b4",
   "metadata": {},
   "outputs": [],
   "source": [
    "driver = webdriver.Chrome()\n",
    "driver.get(\"http://www.lesco.gov.pk:36269/Modules/CustomerBill/CheckBill.asp\")"
   ]
  },
  {
   "cell_type": "code",
   "execution_count": 7,
   "id": "39489fa5-7797-4a09-bab4-e555e7cfa026",
   "metadata": {
    "scrolled": true
   },
   "outputs": [
    {
     "name": "stdout",
     "output_type": "stream",
     "text": [
      "Collecting pytesseract\n",
      "  Downloading pytesseract-0.3.13-py3-none-any.whl.metadata (11 kB)\n",
      "Requirement already satisfied: pillow in c:\\users\\huzefa tanveer\\anaconda3\\lib\\site-packages (10.3.0)\n",
      "Requirement already satisfied: packaging>=21.3 in c:\\users\\huzefa tanveer\\anaconda3\\lib\\site-packages (from pytesseract) (23.2)\n",
      "Downloading pytesseract-0.3.13-py3-none-any.whl (14 kB)\n",
      "Installing collected packages: pytesseract\n",
      "Successfully installed pytesseract-0.3.13\n"
     ]
    }
   ],
   "source": [
    "!pip install pytesseract pillow"
   ]
  },
  {
   "cell_type": "code",
   "execution_count": 7,
   "id": "42607f3b-929a-41aa-89b5-3c09ea48481e",
   "metadata": {},
   "outputs": [],
   "source": [
    "import pytesseract\n",
    "from PIL import Image"
   ]
  },
  {
   "cell_type": "code",
   "execution_count": 11,
   "id": "9b259456-314f-47ef-89e0-2e0c882a6d6d",
   "metadata": {},
   "outputs": [
    {
     "data": {
      "text/plain": [
       "True"
      ]
     },
     "execution_count": 11,
     "metadata": {},
     "output_type": "execute_result"
    }
   ],
   "source": [
    "screenshot_path = 'image.png'\n",
    "driver.save_screenshot(screenshot_path)"
   ]
  },
  {
   "cell_type": "code",
   "execution_count": 37,
   "id": "88e013e1-5704-4b29-81d9-d2685256e72d",
   "metadata": {},
   "outputs": [
    {
     "name": "stdout",
     "output_type": "stream",
     "text": [
      "AUGZ3 TS 2948 174641 174641 FEB24 3 1760 | 122971 122971\n",
      "SEP23 12 2264 134834 134834 MAR24 7 1982 140569 140559\n",
      "OCT23 7 2044 127912 127912 APR24 3 1836 121420 121420\n",
      "NOVv23 5 2079 123867 123867 MAY24 6 2096 130246 130246\n",
      "DEG23 13 2300 149196 149196 JUN24 3 2504 167615 157615\n",
      "JAN24 9 2026 136427 138427 JUL24 6 2163 156063 156063\n",
      "\n"
     ]
    }
   ],
   "source": [
    "from PIL import Image, ImageEnhance, ImageFilter\n",
    "import pytesseract\n",
    "\n",
    "# Load the image\n",
    "image = Image.open(screenshot_path)\n",
    "\n",
    "# Preprocess the image\n",
    "# Convert to grayscale\n",
    "image = image.convert('L')\n",
    "\n",
    "# Apply thresholding (binarization)\n",
    "image = image.point(lambda x: 0 if x < 140 else 255, '1')\n",
    "\n",
    "# Resize the image (optional, with the updated attribute)\n",
    "image = image.resize((image.width * 2, image.height * 2), Image.Resampling.LANCZOS)\n",
    "\n",
    "# Save the processed image (optional, for debugging)\n",
    "image.save('processed_image.png')\n",
    "\n",
    "# Extract text from the processed image\n",
    "extracted_text = pytesseract.image_to_string(image)\n",
    "\n",
    "# Print the extracted text\n",
    "print(extracted_text)\n"
   ]
  },
  {
   "cell_type": "code",
   "execution_count": 56,
   "id": "8ac54dff-fd34-4a03-9b34-05fa5271b250",
   "metadata": {},
   "outputs": [
    {
     "name": "stdout",
     "output_type": "stream",
     "text": [
      "  Month1 MDI1 KWHunits1 Billamount1 Payment1 Month2 MDI2 KWHunits2  \\\n",
      "0  AUG23    3      2948      174641   174641  FEB24    3      1760   \n",
      "1  SEP23   12      2264      134834   134834  MAR24    7      1982   \n",
      "2  OCT23    7      2044      127912   127912  APR24    3      1836   \n",
      "3  NOV23    5      2079      123867   123867  MAY24    6      2096   \n",
      "4  DEC23   13      2300      149196   149196  JUN24    3      2504   \n",
      "5  JAN24    9      2026      136427   138427  JUL24    6      2163   \n",
      "\n",
      "  Billamount2 Payment2  \n",
      "0      122971   122971  \n",
      "1      140569   140559  \n",
      "2      121420   121420  \n",
      "3      130246   130246  \n",
      "4      167615   157615  \n",
      "5      156063   156063  \n"
     ]
    }
   ],
   "source": [
    "import pandas as pd\n",
    "import re\n",
    "\n",
    "# Your text data\n",
    "# text = extracted_text\n",
    "text = \"\"\"\n",
    "AUG23 3 2948 174641 174641 FEB24 3 1760 122971 122971\n",
    "SEP23 12 2264 134834 134834 MAR24 7 1982 140569 140559\n",
    "OCT23 7 2044 127912 127912 APR24 3 1836 121420 121420\n",
    "NOV23 5 2079 123867 123867 MAY24 6 2096 130246 130246\n",
    "DEC23 13 2300 149196 149196 JUN24 3 2504 167615 157615\n",
    "JAN24 9 2026 136427 138427 JUL24 6 2163 156063 156063\n",
    "\"\"\"\n",
    "# Split the text into rows\n",
    "rows = text.strip().split('\\n')\n",
    "\n",
    "# Regex pattern to extract the data\n",
    "pattern = r'([A-Z]{3}\\d{2}) (\\d+) (\\d+) (\\d+) (\\d+) ([A-Z]{3}\\d{2}) (\\d+) (\\d+) (\\d+) (\\d+)'\n",
    "\n",
    "# Parsed data\n",
    "data = []\n",
    "\n",
    "for row in rows:\n",
    "    match = re.match(pattern, row)\n",
    "    if match:\n",
    "        data.append(match.groups())\n",
    "\n",
    "# Create the DataFrame\n",
    "columns = [\"Month1\", \"MDI1\", \"KWHunits1\", \"Billamount1\", \"Payment1\", \n",
    "           \"Month2\", \"MDI2\", \"KWHunits2\", \"Billamount2\", \"Payment2\"]\n",
    "df = pd.DataFrame(data, columns=columns)\n",
    "\n",
    "print(df)"
   ]
  },
  {
   "cell_type": "code",
   "execution_count": 23,
   "id": "36d628ad-109b-4505-a011-1d348e883a46",
   "metadata": {},
   "outputs": [],
   "source": [
    "image = Image.open(screenshot_path)\n",
    "extracted_text = pytesseract.image_to_string(image)"
   ]
  },
  {
   "cell_type": "code",
   "execution_count": 45,
   "id": "00cf544c-2960-489f-899f-e623d0a78bfb",
   "metadata": {},
   "outputs": [],
   "source": [
    "driver.quit()\n"
   ]
  },
  {
   "cell_type": "code",
   "execution_count": 62,
   "id": "503e88b3-5cc5-4fda-b6b1-51c337e2558b",
   "metadata": {},
   "outputs": [
    {
     "name": "stdout",
     "output_type": "stream",
     "text": [
      "DataFrame stored in SQLite database successfully.\n"
     ]
    }
   ],
   "source": [
    "import sqlite3\n",
    "\n",
    "# Create a SQLite database and establish a connection\n",
    "conn = sqlite3.connect('data.db')\n",
    "cursor = conn.cursor()\n",
    "\n",
    "# Store DataFrame into SQLite\n",
    "df.to_sql('data_table', conn, if_exists='replace', index=False)\n",
    "\n",
    "print(\"DataFrame stored in SQLite database successfully.\")\n"
   ]
  },
  {
   "cell_type": "code",
   "execution_count": 64,
   "id": "295335c5-26a1-405d-919a-4cfbd7e0e74b",
   "metadata": {},
   "outputs": [
    {
     "name": "stdout",
     "output_type": "stream",
     "text": [
      "  Month1 MDI1 KWHunits1 Billamount1 Payment1 Month2 MDI2 KWHunits2  \\\n",
      "0  AUG23    3      2948      174641   174641  FEB24    3      1760   \n",
      "1  SEP23   12      2264      134834   134834  MAR24    7      1982   \n",
      "2  OCT23    7      2044      127912   127912  APR24    3      1836   \n",
      "\n",
      "  Billamount2 Payment2  \n",
      "0      122971   122971  \n",
      "1      140569   140559  \n",
      "2      121420   121420  \n"
     ]
    }
   ],
   "source": [
    "# Assuming df is the combined DataFrame\n",
    "df_filtered_kwh = df[(df['KWHunits1'].astype(int) < 2000) | (df['KWHunits2'].astype(int) < 2000)]\n",
    "print(df_filtered_kwh)\n"
   ]
  },
  {
   "cell_type": "code",
   "execution_count": 66,
   "id": "b124f979-4965-4bea-8376-a2e2407dabf3",
   "metadata": {},
   "outputs": [
    {
     "name": "stdout",
     "output_type": "stream",
     "text": [
      "Empty DataFrame\n",
      "Columns: [Month1, MDI1, KWHunits1, Billamount1, Payment1, Month2, MDI2, KWHunits2, Billamount2, Payment2]\n",
      "Index: []\n"
     ]
    }
   ],
   "source": [
    "# Convert MONTH columns to datetime format\n",
    "df['Month1'] = pd.to_datetime(df['Month1'], format='%b%y')\n",
    "df['Month2'] = pd.to_datetime(df['Month2'], format='%b%y')\n",
    "\n",
    "# Filter the DataFrame\n",
    "start_date = '2023-02-01'\n",
    "end_date = '2023-06-30'\n",
    "df_filtered_month = df[(df['Month1'] >= start_date) & (df['Month1'] <= end_date) |\n",
    "                       (df['Month2'] >= start_date) & (df['Month2'] <= end_date)]\n",
    "\n",
    "print(df_filtered_month)\n"
   ]
  },
  {
   "cell_type": "code",
   "execution_count": 68,
   "id": "8d2db9cd-ae50-4a91-a782-ad910c32d18a",
   "metadata": {},
   "outputs": [
    {
     "name": "stdout",
     "output_type": "stream",
     "text": [
      "      Month1 MDI1 KWHunits1 Billamount1 Payment1     Month2 MDI2 KWHunits2  \\\n",
      "0 2023-08-01    3      2948      174641   174641 2024-02-01    3      1760   \n",
      "1 2023-09-01   12      2264      134834   134834 2024-03-01    7      1982   \n",
      "2 2023-10-01    7      2044      127912   127912 2024-04-01    3      1836   \n",
      "3 2023-11-01    5      2079      123867   123867 2024-05-01    6      2096   \n",
      "4 2023-12-01   13      2300      149196   149196 2024-06-01    3      2504   \n",
      "5 2024-01-01    9      2026      136427   138427 2024-07-01    6      2163   \n",
      "\n",
      "  Billamount2 Payment2  MDI1_x_0.50  MDI2_x_0.50  \n",
      "0      122971   122971          1.5          1.5  \n",
      "1      140569   140559          6.0          3.5  \n",
      "2      121420   121420          3.5          1.5  \n",
      "3      130246   130246          2.5          3.0  \n",
      "4      167615   157615          6.5          1.5  \n",
      "5      156063   156063          4.5          3.0  \n"
     ]
    }
   ],
   "source": [
    "# Add new columns for calculations\n",
    "df['MDI1_x_0.50'] = df['MDI1'].astype(float) * 0.50\n",
    "df['MDI2_x_0.50'] = df['MDI2'].astype(float) * 0.50\n",
    "\n",
    "print(df)\n"
   ]
  },
  {
   "cell_type": "code",
   "execution_count": 70,
   "id": "3b4fdcf0-694f-4930-a68c-4c5aaf70b57e",
   "metadata": {},
   "outputs": [
    {
     "name": "stdout",
     "output_type": "stream",
     "text": [
      "      Month1    MDI1 KWHunits1 Billamount1 Payment1     Month2 MDI2 KWHunits2  \\\n",
      "0 2023-08-01       3      2948      174641   174641 2024-02-01    3      1760   \n",
      "1 2023-09-01      12      2264      134834   134834 2024-03-01    7      1982   \n",
      "2 2023-10-01       7      2044      127912   127912 2024-04-01    3      1836   \n",
      "3 2023-11-01       5      2079      123867   123867 2024-05-01    6      2096   \n",
      "4 2023-12-01  999999      2300      149196   999999 2024-06-01    3      2504   \n",
      "5 2024-01-01       9      2026      136427   138427 2024-07-01    6      2163   \n",
      "\n",
      "  Billamount2 Payment2  MDI1_x_0.50  MDI2_x_0.50  KWH units1  Bill amount1  \\\n",
      "0      122971   122971          1.5          1.5         NaN           NaN   \n",
      "1      140569   140559          6.0          3.5         NaN           NaN   \n",
      "2      121420   121420          3.5          1.5         NaN           NaN   \n",
      "3      130246   130246          2.5          3.0         NaN           NaN   \n",
      "4      167615   157615          6.5          1.5    999999.0      999999.0   \n",
      "5      156063   156063          4.5          3.0         NaN           NaN   \n",
      "\n",
      "   KWH units2  Bill amount2  \n",
      "0         NaN           NaN  \n",
      "1         NaN           NaN  \n",
      "2         NaN           NaN  \n",
      "3         NaN           NaN  \n",
      "4         NaN           NaN  \n",
      "5         NaN           NaN  \n"
     ]
    }
   ],
   "source": [
    "# Replace numeric values for December 2023\n",
    "df.loc[(df['Month1'].dt.month == 12) & (df['Month1'].dt.year == 2023), \n",
    "       ['MDI1', 'KWH units1', 'Bill amount1', 'Payment1']] = 999999\n",
    "df.loc[(df['Month2'].dt.month == 12) & (df['Month2'].dt.year == 2023), \n",
    "       ['MDI2', 'KWH units2', 'Bill amount2', 'Payment2']] = 999999\n",
    "\n",
    "print(df)\n"
   ]
  },
  {
   "cell_type": "code",
   "execution_count": null,
   "id": "90173cb7-f0e0-4cff-bc39-4c248083bb1e",
   "metadata": {},
   "outputs": [],
   "source": []
  }
 ],
 "metadata": {
  "kernelspec": {
   "display_name": "Python 3 (ipykernel)",
   "language": "python",
   "name": "python3"
  },
  "language_info": {
   "codemirror_mode": {
    "name": "ipython",
    "version": 3
   },
   "file_extension": ".py",
   "mimetype": "text/x-python",
   "name": "python",
   "nbconvert_exporter": "python",
   "pygments_lexer": "ipython3",
   "version": "3.12.4"
  }
 },
 "nbformat": 4,
 "nbformat_minor": 5
}
